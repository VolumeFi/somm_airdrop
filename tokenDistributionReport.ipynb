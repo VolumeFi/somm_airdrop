{
  "cells": [
    {
      "cell_type": "markdown",
      "metadata": {
        "id": "N9urKQ3jEPGq"
      },
      "source": [
        "# Setup"
      ]
    },
    {
      "cell_type": "code",
      "execution_count": null,
      "metadata": {
        "id": "ry5Chn_dZp-o",
        "outputId": "71b3f781-6e0e-4369-e799-0b5a37001f5c",
        "colab": {
          "base_uri": "https://localhost:8080/"
        }
      },
      "outputs": [
        {
          "output_type": "stream",
          "name": "stdout",
          "text": [
            "Cloning into 'somm_airdrop'...\n",
            "remote: Enumerating objects: 869, done.\u001b[K\n",
            "remote: Counting objects: 100% (869/869), done.\u001b[K\n",
            "remote: Compressing objects: 100% (498/498), done.\u001b[K\n",
            "remote: Total 869 (delta 509), reused 648 (delta 325), pack-reused 0\u001b[K\n",
            "Receiving objects: 100% (869/869), 3.20 MiB | 7.97 MiB/s, done.\n",
            "Resolving deltas: 100% (509/509), done.\n",
            "lib  sample_data\n"
          ]
        }
      ],
      "source": [
        "def clone_github_repo():\n",
        "    !git clone https://github.com/VolumeFi/somm_airdrop \n",
        "    !mv \"somm_airdrop\" lib\n",
        "    !ls\n",
        "  \n",
        "clone_github_repo()"
      ]
    },
    {
      "cell_type": "code",
      "execution_count": null,
      "metadata": {
        "id": "H28_gVrJaA0w",
        "outputId": "10d1096f-1a6e-446c-97c7-bf4de660460f",
        "colab": {
          "base_uri": "https://localhost:8080/"
        }
      },
      "outputs": [
        {
          "output_type": "stream",
          "name": "stdout",
          "text": [
            "\u001b[?25l\r\u001b[K     |█▏                              | 10 kB 16.7 MB/s eta 0:00:01\r\u001b[K     |██▍                             | 20 kB 19.4 MB/s eta 0:00:01\r\u001b[K     |███▌                            | 30 kB 21.9 MB/s eta 0:00:01\r\u001b[K     |████▊                           | 40 kB 23.1 MB/s eta 0:00:01\r\u001b[K     |█████▉                          | 51 kB 23.7 MB/s eta 0:00:01\r\u001b[K     |███████                         | 61 kB 24.6 MB/s eta 0:00:01\r\u001b[K     |████████▏                       | 71 kB 25.6 MB/s eta 0:00:01\r\u001b[K     |█████████▍                      | 81 kB 27.0 MB/s eta 0:00:01\r\u001b[K     |██████████▌                     | 92 kB 16.9 MB/s eta 0:00:01\r\u001b[K     |███████████▊                    | 102 kB 14.1 MB/s eta 0:00:01\r\u001b[K     |█████████████                   | 112 kB 14.1 MB/s eta 0:00:01\r\u001b[K     |██████████████                  | 122 kB 14.1 MB/s eta 0:00:01\r\u001b[K     |███████████████▎                | 133 kB 14.1 MB/s eta 0:00:01\r\u001b[K     |████████████████▍               | 143 kB 14.1 MB/s eta 0:00:01\r\u001b[K     |█████████████████▋              | 153 kB 14.1 MB/s eta 0:00:01\r\u001b[K     |██████████████████▊             | 163 kB 14.1 MB/s eta 0:00:01\r\u001b[K     |████████████████████            | 174 kB 14.1 MB/s eta 0:00:01\r\u001b[K     |█████████████████████           | 184 kB 14.1 MB/s eta 0:00:01\r\u001b[K     |██████████████████████▎         | 194 kB 14.1 MB/s eta 0:00:01\r\u001b[K     |███████████████████████▍        | 204 kB 14.1 MB/s eta 0:00:01\r\u001b[K     |████████████████████████▋       | 215 kB 14.1 MB/s eta 0:00:01\r\u001b[K     |█████████████████████████▉      | 225 kB 14.1 MB/s eta 0:00:01\r\u001b[K     |███████████████████████████     | 235 kB 14.1 MB/s eta 0:00:01\r\u001b[K     |████████████████████████████▏   | 245 kB 14.1 MB/s eta 0:00:01\r\u001b[K     |█████████████████████████████▎  | 256 kB 14.1 MB/s eta 0:00:01\r\u001b[K     |██████████████████████████████▌ | 266 kB 14.1 MB/s eta 0:00:01\r\u001b[K     |███████████████████████████████▋| 276 kB 14.1 MB/s eta 0:00:01\r\u001b[K     |████████████████████████████████| 279 kB 14.1 MB/s \n",
            "\u001b[31mERROR: pip's dependency resolver does not currently take into account all the packages that are installed. This behaviour is the source of the following dependency conflicts.\n",
            "datascience 0.10.6 requires folium==0.2.1, but you have folium 0.8.3 which is incompatible.\u001b[0m\n",
            "\u001b[?25hairdrop_details.md   airdrop.ipynb  plots      scripts\t     tests\n",
            "airdrop_details.pdf  LICENSE\t    README.md  somm_airdrop  token_rewards\n"
          ]
        }
      ],
      "source": [
        "def setup_repo_imports():\n",
        "    !pip install -q pytest==6.2\n",
        "    # !cp lib/__init__.py __init__.py\n",
        "    import lib\n",
        "    import os\n",
        "    import sys\n",
        "    path_to_lib = os.path.join(\"content\", \"lib\")\n",
        "    current_dir = os.getcwd()\n",
        "    start_with_slash = lambda s: '/' + s if s[0] is not '/' else s\n",
        "    path_to_lib, current_dir = [\n",
        "        start_with_slash(s) for s in [path_to_lib, current_dir]]\n",
        "    !cd lib && ls\n",
        "    if not (path_to_lib == current_dir):\n",
        "        os.chdir('lib')\n",
        "\n",
        "setup_repo_imports()"
      ]
    },
    {
      "cell_type": "markdown",
      "metadata": {
        "id": "dCC10bDvENJ7"
      },
      "source": [
        "# Token Distributions \n",
        "\n"
      ]
    },
    {
      "cell_type": "code",
      "execution_count": null,
      "metadata": {
        "id": "xAZd47GTEbfy",
        "outputId": "bde299e0-1739-4fb9-97bc-693af0e37703",
        "colab": {
          "base_uri": "https://localhost:8080/"
        }
      },
      "outputs": [
        {
          "output_type": "stream",
          "name": "stdout",
          "text": [
            "['airdrop_details.pdf', '.github', 'LICENSE', 'tests', '.gitignore', 'scripts', 'plots', '.git', 'airdrop_details.md', 'token_rewards', 'README.md', 'somm_airdrop', 'airdrop.ipynb']\n"
          ]
        },
        {
          "output_type": "execute_result",
          "data": {
            "text/plain": [
              "{'osmosis': 'osmosis_pool_rewards.json',\n",
              " 'somm_app': 'somm_app_rewards.json',\n",
              " 'uniswap_v3': 'uniswap_v3_pool_rewards.json'}"
            ]
          },
          "metadata": {},
          "execution_count": 3
        }
      ],
      "source": [
        "import os\n",
        "import json\n",
        "\n",
        "print(os.listdir())\n",
        "token_rewards_dir = os.path.join(\"token_rewards\")\n",
        "reward_paths = os.listdir(token_rewards_dir)\n",
        "\n",
        "groups = [\"osmosis\", \"somm_app\", \"uniswap_v3\"]\n",
        "\n",
        "reward_paths_map: dict = {}\n",
        "for reward_path in reward_paths:\n",
        "    for group in groups:\n",
        "        if group in reward_path:\n",
        "            reward_paths_map[group] = reward_path\n",
        "\n",
        "reward_paths_map\n"
      ]
    },
    {
      "cell_type": "code",
      "source": [
        "from typing import Dict\n",
        "from pprint import pprint\n",
        "\n",
        "reward_totals: Dict[str, float]= {}\n",
        "for distribution_group in reward_paths_map:\n",
        "    path = os.path.join(token_rewards_dir, reward_paths_map[distribution_group])\n",
        "\n",
        "    with open(path, \"r\") as f:\n",
        "        data = json.load(f)\n",
        "        reward_totals[distribution_group] = sum(data.values())\n",
        "\n",
        "total_distribution = sum(reward_totals.values())\n",
        "print(f\"Total distribution\\t{total_distribution}\")\n",
        "\n",
        "print(\"\\nReward totals:\")\n",
        "pprint(reward_totals)\n",
        "\n",
        "reward_pcts = {k:v / total_distribution for k, v in reward_totals.items()}\n",
        "print(\"\\nReward percentages:\")\n",
        "pprint(reward_pcts)\n"
      ],
      "metadata": {
        "id": "GE27Ve3SAd40",
        "outputId": "bd820381-3a20-41ba-db3a-189b1a0703b5",
        "colab": {
          "base_uri": "https://localhost:8080/"
        }
      },
      "execution_count": null,
      "outputs": [
        {
          "output_type": "stream",
          "name": "stdout",
          "text": [
            "Total distribution\t14599999.999999963\n",
            "\n",
            "Reward totals:\n",
            "{'osmosis': 3399999.9999999735,\n",
            " 'somm_app': 5200000.000000008,\n",
            " 'uniswap_v3': 5999999.999999981}\n",
            "\n",
            "Reward percentages:\n",
            "{'osmosis': 0.2328767123287659,\n",
            " 'somm_app': 0.3561643835616453,\n",
            " 'uniswap_v3': 0.4109589041095888}\n"
          ]
        }
      ]
    }
  ],
  "metadata": {
    "colab": {
      "name": "tokenDistributionReport.ipynb",
      "provenance": [],
      "collapsed_sections": []
    },
    "kernelspec": {
      "display_name": "Python 3",
      "language": "python",
      "name": "python3"
    },
    "language_info": {
      "codemirror_mode": {
        "name": "ipython",
        "version": 3
      },
      "file_extension": ".py",
      "mimetype": "text/x-python",
      "name": "python",
      "nbconvert_exporter": "python",
      "pygments_lexer": "ipython3",
      "version": "3.8.5"
    },
    "toc": {
      "base_numbering": 1,
      "nav_menu": {},
      "number_sections": true,
      "sideBar": true,
      "skip_h1_title": true,
      "title_cell": "Contents",
      "title_sidebar": "Contents",
      "toc_cell": true,
      "toc_position": {},
      "toc_section_display": true,
      "toc_window_display": false
    }
  },
  "nbformat": 4,
  "nbformat_minor": 0
}